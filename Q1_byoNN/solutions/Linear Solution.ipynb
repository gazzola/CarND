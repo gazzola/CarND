{
 "cells": [
  {
   "cell_type": "markdown",
   "metadata": {},
   "source": [
    "# Linear Solution"
   ]
  },
  {
   "cell_type": "code",
   "execution_count": null,
   "metadata": {
    "collapsed": true
   },
   "outputs": [],
   "source": [
    "class Linear(Node):\n",
    "    def __init__(self, x, w, b):\n",
    "        Node.__init__(self, [x, w, b])\n",
    "\n",
    "    def forward(self):\n",
    "        self.cache[0] = np.copy(self.input_nodes[0].value)\n",
    "        self.cache[1] = np.copy(self.input_nodes[1].value)\n",
    "        self.cache[2] = np.copy(self.input_nodes[2].value)\n",
    "        self.value = np.dot(self.cache[0], self.cache[1]) + self.cache[2]\n",
    "\n",
    "    def backward(self):\n",
    "        self.dvalues = {n: np.zeros_like(n.value) for n in self.input_nodes}\n",
    "        if len(self.output_nodes) == 0:\n",
    "            self.dvalues[self.input_nodes[0]] += np.dot(np.ones_like(self.value), self.cache[1].T)\n",
    "            self.dvalues[self.input_nodes[1]] += np.dot(self.cache[0].T, np.ones_like(self.value))\n",
    "            self.dvalues[self.input_nodes[2]] += self.value.shape[0] # equivalent to summing this amount of 1s\n",
    "            return\n",
    "        for n in self.output_nodes:\n",
    "            dval = n.dvalues[self]\n",
    "            self.dvalues[self.input_nodes[0]] += np.dot(dval, self.cache[1].T)\n",
    "            self.dvalues[self.input_nodes[1]] += np.dot(self.cache[0].T, dval)\n",
    "            self.dvalues[self.input_nodes[2]] += np.sum(dval, axis=0, keepdims=True)"
   ]
  },
  {
   "cell_type": "markdown",
   "metadata": {},
   "source": [
    "## Forward Pass\n",
    "\n",
    "For the forward pass we compute\n",
    "\n",
    "$$\n",
    "f(X, W, b) = XW + b\n",
    "$$\n",
    "\n",
    "and store the values in the cache.\n",
    "\n",
    "## Backward Pass\n",
    "\n",
    "Note the different initialization here, `np.zeros_like` creates an array the same shape as the input filled with 0s.\n",
    "\n",
    "```\n",
    "self.dvalues = {n: np.zeros_like(n.value) for n in self.input_nodes}\n",
    "```\n",
    "\n",
    "For the backward pass it's very helpful to write out $f$ explicitly with the elements of the matrices and vector. Let's assume $X$ is a $m$ by $n$ matrix, $W$ is $n$ by $p$, $b$ is $1$ by $p$, and $Z$ is $m$ by $p$.\n",
    "\n",
    "$$\n",
    "Z_{ij} = \\sum_{k=1}^n X_{ik}W_{kj} + b_j\n",
    "$$\n",
    "\n",
    "This is a dot product between the ith row of $X$ and the jth column of $W$ followed by an additon of the jth element of $b$.\n",
    "\n",
    "Let's find the partial for $X_{ij}$.\n",
    "\n",
    "$$\n",
    "\\frac {\\partial Z_{ij}} {\\partial X_{ik}} = W_{kj}\n",
    "$$\n",
    "\n",
    "If we take a closer look we'll see that $X_{ik}$ is used to compute more than $Z_{ij}$. Notice the $i$ and $j$ indices remain static. That is, any $X_{ik}$ will be multiplied by an element used in every column $j$ of $W$.\n",
    "\n",
    "$$\n",
    "\\frac {\\partial Z_i} {\\partial X_{ik}} = \\sum_{j=1}^p W_{kj}\n",
    "$$\n",
    "\n",
    "All that's left is to incorporate the values propagated backwards through the chain rule.\n",
    "\n",
    "$$\n",
    "\\frac {\\partial L} {\\partial X_{ik}} = \\sum_{j=1}^p W_{kj} \\frac {\\partial L} {\\partial Z_{ij}}\n",
    "$$\n",
    "\n",
    "In order to express this in code we need to transpose $W$ so it's $p$ by $n$.\n",
    "\n",
    "$$\n",
    "\\frac {\\partial L} {\\partial X} = ZW^T\n",
    "$$\n",
    "\n",
    "Similar reasoning leads to \n",
    "\n",
    "$$\n",
    "\\frac {\\partial L} {\\partial W} = X^TZ\n",
    "$$\n",
    "\n",
    "Ok, now let's find the partial for $b_j$\n",
    "\n",
    "$$\n",
    "\\frac {\\partial Z_{ij}} {\\partial b_j} = 1\n",
    "$$\n",
    "\n",
    "Once again note we use the same $b_j$ to compute each row $i$ of $Z$.\n",
    "\n",
    "$$\n",
    "\\frac {\\partial Z_{j}} {\\partial b_j} = \\sum_{i=1}^m 1 = m\n",
    "$$\n",
    "\n",
    "Incorporating the chain rule\n",
    "\n",
    "$$\n",
    "\\frac {\\partial L} {\\partial b_{j}} = \\sum_{i=1}^m (1 * \\frac {\\partial L} {\\partial Z_{ij}})\n",
    "$$"
   ]
  },
  {
   "cell_type": "code",
   "execution_count": null,
   "metadata": {
    "collapsed": true
   },
   "outputs": [],
   "source": []
  }
 ],
 "metadata": {
  "kernelspec": {
   "display_name": "Python 3",
   "language": "python",
   "name": "python3"
  },
  "language_info": {
   "codemirror_mode": {
    "name": "ipython",
    "version": 3
   },
   "file_extension": ".py",
   "mimetype": "text/x-python",
   "name": "python",
   "nbconvert_exporter": "python",
   "pygments_lexer": "ipython3",
   "version": "3.5.2"
  }
 },
 "nbformat": 4,
 "nbformat_minor": 1
}
