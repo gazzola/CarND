{
 "cells": [
  {
   "cell_type": "markdown",
   "metadata": {},
   "source": [
    "# Embeddable Slider for CV function visualisation\n",
    "\n",
    "Everything you need to know to get an embeddable widget with sliders working inside an ipython notebook in two steps.\n",
    "\n",
    "## First step: Let's get ipython widgets working\n",
    "\n",
    "Following [this post](https://jakevdp.github.io/blog/2013/12/05/static-interactive-widgets/), starting by the last example. First, create the functions we want to plot and embed:"
   ]
  },
  {
   "cell_type": "code",
   "execution_count": 14,
   "metadata": {
    "collapsed": true
   },
   "outputs": [],
   "source": [
    "%matplotlib inline\n",
    "from sklearn.neighbors import KernelDensity\n",
    "import numpy as np\n",
    "from matplotlib import pyplot as plt\n",
    "\n",
    "np.random.seed(0)\n",
    "x = np.concatenate([np.random.normal(0, 1, 1000),\n",
    "                    np.random.normal(1.5, 0.2, 300)])\n",
    "\n",
    "def plot_KDE_estimate(kernel, b):\n",
    "    bandwidth = 10 ** (0.1 * b)\n",
    "    x_grid = np.linspace(-3, 3, 1000)\n",
    "    kde = KernelDensity(bandwidth=bandwidth,\n",
    "                        kernel=kernel)\n",
    "    kde.fit(x[:, None])\n",
    "    pdf = np.exp(kde.score_samples(x_grid[:, None]))\n",
    "    \n",
    "    fig, ax = plt.subplots(figsize=(4, 3),\n",
    "                           subplot_kw={'axisbg':'#EEEEEE',\n",
    "                                       'axisbelow':True})\n",
    "    ax.grid(color='w', linewidth=2, linestyle='solid')\n",
    "    ax.hist(x, 60, histtype='stepfilled', normed=True,\n",
    "            edgecolor='none', facecolor='#CCCCFF')\n",
    "    ax.plot(x_grid, pdf, '-k', lw=2, alpha=0.5)\n",
    "    ax.text(-2.8, 0.48,\n",
    "            \"kernel={0}\\nbandwidth={1:.2f}\".format(kernel, bandwidth),\n",
    "            fontsize=14, color='gray')\n",
    "    \n",
    "    ax.set_xlim(-3, 3)\n",
    "    ax.set_ylim(0, 0.601)\n",
    "    \n",
    "#    return fig <- removed to avoid double plot"
   ]
  },
  {
   "cell_type": "markdown",
   "metadata": {},
   "source": [
    "Now some `ipywidgets` magic:"
   ]
  },
  {
   "cell_type": "code",
   "execution_count": 12,
   "metadata": {
    "collapsed": false
   },
   "outputs": [
    {
     "ename": "ImportError",
     "evalue": "cannot import name 'StaticInteract'",
     "output_type": "error",
     "traceback": [
      "\u001b[0;31m---------------------------------------------------------------------------\u001b[0m",
      "\u001b[0;31mImportError\u001b[0m                               Traceback (most recent call last)",
      "\u001b[0;32m<ipython-input-12-3c48d2c5dfdb>\u001b[0m in \u001b[0;36m<module>\u001b[0;34m()\u001b[0m\n\u001b[0;32m----> 1\u001b[0;31m \u001b[0;32mfrom\u001b[0m \u001b[0mipywidgets\u001b[0m \u001b[0;32mimport\u001b[0m \u001b[0mStaticInteract\u001b[0m\u001b[0;34m,\u001b[0m \u001b[0mRangeWidget\u001b[0m\u001b[0;34m\u001b[0m\u001b[0m\n\u001b[0m\u001b[1;32m      2\u001b[0m StaticInteract(plot_KDE_estimate,\n\u001b[1;32m      3\u001b[0m                kernel=RadioWidget(['gaussian', 'tophat', 'exponential'],\n\u001b[1;32m      4\u001b[0m                                   delimiter=\"<br>\"),\n\u001b[1;32m      5\u001b[0m                b=RangeWidget(-14, 8, 2))\n",
      "\u001b[0;31mImportError\u001b[0m: cannot import name 'StaticInteract'"
     ]
    }
   ],
   "source": [
    "from ipywidgets import StaticInteract, RangeWidget\n",
    "StaticInteract(plot_KDE_estimate,\n",
    "               kernel=RadioWidget(['gaussian', 'tophat', 'exponential'],\n",
    "                                  delimiter=\"<br>\"),\n",
    "               b=RangeWidget(-14, 8, 2))"
   ]
  },
  {
   "cell_type": "markdown",
   "metadata": {},
   "source": [
    "[disappointed.png](https://encrypted-tbn0.gstatic.com/images?q=tbn:ANd9GcR6by0Ff3e3ceMmWHw-MwpDv6Ip8oJt0nGGFUq0l6J_LsSakzpExA)\n",
    "\n",
    "## First.5 step: for real this time\n",
    "\n",
    "Let's try this again, now updating the above with information from [the documentation](http://ipywidgets.readthedocs.io/en/latest/examples/Using%20Interact.html)."
   ]
  },
  {
   "cell_type": "code",
   "execution_count": 15,
   "metadata": {
    "collapsed": false
   },
   "outputs": [
    {
     "data": {
      "image/png": "[encoded data removed]",
      "text/plain": [
       "<matplotlib.figure.Figure at 0x11008bc18>"
      ]
     },
     "metadata": {},
     "output_type": "display_data"
    }
   ],
   "source": [
    "from ipywidgets import interact\n",
    "interact(plot_KDE_estimate,\n",
    "               kernel=('gaussian', 'tophat', 'exponential'),\n",
    "               b=(-14, 8, 2))"
   ]
  },
  {
   "cell_type": "markdown",
   "metadata": {
    "collapsed": true
   },
   "source": [
    "[yay.png](http://images.digopaul.com/wp-content/uploads/related_images/2015/09/08/ecstatic_2.jpg)\n",
    "\n",
    "Now that we've got this working, let's get to the interesting stuff.\n",
    "\n",
    "## Second step: Let's get to the interesting stuff\n",
    "\n",
    "Now we add the computer vision stuff. I'll build a `plot_CV_pipeline` function with flags to stop the pipeline at any particular time for visual inspection and parameter tuning without blind guessing. This will result in `plot_CV_pipeline` having about 8000 parameters. Oh well, that's life `¯\\_(ツ)_/¯`"
   ]
  },
  {
   "cell_type": "code",
   "execution_count": 61,
   "metadata": {
    "collapsed": false
   },
   "outputs": [
    {
     "ename": "error",
     "evalue": "/Users/jenkins/miniconda/1/x64/conda-bld/work/opencv-3.1.0/modules/highgui/src/window.cpp:281: error: (-215) size.width>0 && size.height>0 in function imshow\n",
     "output_type": "error",
     "traceback": [
      "\u001b[0;31m---------------------------------------------------------------------------\u001b[0m",
      "\u001b[0;31merror\u001b[0m                                     Traceback (most recent call last)",
      "\u001b[0;32m<ipython-input-61-ab9b339df62e>\u001b[0m in \u001b[0;36mplot_CV_pipeline\u001b[0;34m(view)\u001b[0m\n\u001b[1;32m     22\u001b[0m     \u001b[0;34m'''This plots the image we should return'''\u001b[0m\u001b[0;34m\u001b[0m\u001b[0m\n\u001b[1;32m     23\u001b[0m     \u001b[0mimg\u001b[0m \u001b[0;34m=\u001b[0m \u001b[0mCV_pipeline\u001b[0m\u001b[0;34m(\u001b[0m\u001b[0mview\u001b[0m\u001b[0;34m=\u001b[0m\u001b[0mview\u001b[0m\u001b[0;34m)\u001b[0m\u001b[0;34m\u001b[0m\u001b[0m\n\u001b[0;32m---> 24\u001b[0;31m     \u001b[0mcv2\u001b[0m\u001b[0;34m.\u001b[0m\u001b[0mimshow\u001b[0m\u001b[0;34m(\u001b[0m\u001b[0;34m'image'\u001b[0m\u001b[0;34m,\u001b[0m\u001b[0mimg\u001b[0m\u001b[0;34m)\u001b[0m\u001b[0;34m\u001b[0m\u001b[0m\n\u001b[0m\u001b[1;32m     25\u001b[0m \u001b[0;31m#    ax.set_axis_off() # get rid of the axes so people forget x grows downwards\u001b[0m\u001b[0;34m\u001b[0m\u001b[0;34m\u001b[0m\u001b[0m\n\u001b[1;32m     26\u001b[0m \u001b[0;34m\u001b[0m\u001b[0m\n",
      "\u001b[0;31merror\u001b[0m: /Users/jenkins/miniconda/1/x64/conda-bld/work/opencv-3.1.0/modules/highgui/src/window.cpp:281: error: (-215) size.width>0 && size.height>0 in function imshow\n"
     ]
    },
    {
     "data": {
      "text/plain": [
       "<function __main__.plot_CV_pipeline>"
      ]
     },
     "execution_count": 61,
     "metadata": {},
     "output_type": "execute_result"
    }
   ],
   "source": [
    "from matplotlib import image as mpimg\n",
    "import cv2\n",
    "\n",
    "original = mpimg.imread('sample.jpg')\n",
    "\n",
    "def CV_pipeline(view):\n",
    "    '''This returns the image we should plot'''\n",
    "#    view = params # unpack params\n",
    "    global original\n",
    "\n",
    "    if view is \"original\":\n",
    "        # easy peasy, lemon squeezy\n",
    "        return original\n",
    "    \n",
    "    grey = cv2.cvtColor(original,cv2.COLOR_BGR2GRAY)\n",
    "\n",
    "    if view is \"greyscale\":\n",
    "        # so far we haven't done anything real.\n",
    "        return grey\n",
    "\n",
    "def plot_CV_pipeline(view):\n",
    "    '''This plots the image we should return'''\n",
    "    img = CV_pipeline(view=view)\n",
    "    cv2.imshow('image',img)\n",
    "#    ax.set_axis_off() # get rid of the axes so people forget x grows downwards\n",
    "    \n",
    "interact(plot_CV_pipeline,\n",
    "               view = (\"original\", \"greyscale\"))"
   ]
  },
  {
   "cell_type": "code",
   "execution_count": null,
   "metadata": {
    "collapsed": true
   },
   "outputs": [],
   "source": []
  }
 ],
 "metadata": {
  "anaconda-cloud": {},
  "kernelspec": {
   "display_name": "Python [conda env:carnd]",
   "language": "python",
   "name": "conda-env-carnd-py"
  },
  "language_info": {
   "codemirror_mode": {
    "name": "ipython",
    "version": 3
   },
   "file_extension": ".py",
   "mimetype": "text/x-python",
   "name": "python",
   "nbconvert_exporter": "python",
   "pygments_lexer": "ipython3",
   "version": "3.5.2"
  },
  "widgets": {
   "state": {
    "123e61f9b30c4d76a016761c199620bd": {
     "views": [
      {
       "cell_index": 7
      }
     ]
    },
    "1a742dcb12d049c99fca2752da8cdad7": {
     "views": [
      {
       "cell_index": 5
      }
     ]
    }
   },
   "version": "1.2.0"
  }
 },
 "nbformat": 4,
 "nbformat_minor": 1
}
